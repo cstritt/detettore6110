{
 "cells": [
  {
   "cell_type": "markdown",
   "id": "6611ad2a",
   "metadata": {},
   "source": [
    "# Test with fastq"
   ]
  },
  {
   "cell_type": "code",
   "execution_count": 6,
   "id": "f5a67e78",
   "metadata": {},
   "outputs": [
    {
     "name": "stdout",
     "output_type": "stream",
     "text": [
      "#CN 21\n",
      "chromosome\tposition\tstrand\tsupport_L\tsupport_R\tmean_mapq\tTSD\tposition_L\tposition_R\tgene\tdist_to_gene\n",
      "MTBC0\t1594\t+\t43\t36\t46\tATT\t1594\t1591\tdnaA;dnaN\t70;458\n",
      "MTBC0\t1271403\t-\t37\t31\t43\tAAGC\t1271403\t1271399\tmtbc0_001219;mtbc0_001220\t79;164\n",
      "MTBC0\t1553316\t-\t35\t37\t49\tGAGG\t1553316\t1553312\tmtbc0_001472\t0\n",
      "MTBC0\t1666821\t-\t34\t33\t49\tCGTT\t1666821\t1666817\tctpD\t0\n",
      "MTBC0\t2059752\t-\t35\t33\t44\tCAGCG\t2059752\t2059747\tmtbc0_001913;mtbc0_001914\t321;260\n",
      "MTBC0\t2287240\t-\t36\t30\t44\tTCAAGG\t2287240\t2287234\tmtbc0_002146\t0\n",
      "MTBC0\t2299427\t+\t36\t33\t49\tTGGATGA\t2299427\t2299420\tmtbc0_002158\t0\n",
      "MTBC0\t2394159\t+\t33\t26\t48\tCACACT\t2394159\t2394153\tmtbc0_002238;mtbc0_002239\t483;464\n",
      "MTBC0\t2394472\t-\t31\t30\t46\tGCA\t2394472\t2394469\tmtbc0_002238;mtbc0_002239\t796;151\n",
      "MTBC0\t3092381\t-\t39\t28\t49\tTCACGTC\t3092381\t3092374\thsdM\t0\n",
      "MTBC0\t3515275\t-\t27\t31\t45\tCGA\t3515275\t3515272\tmtbc0_003325\t0\n",
      "MTBC0\t3574047\t-\t32\t45\t44\tCGG\t3574047\t3574044\tmtbc0_003380;mtbc0_003381\t292;55\n",
      "MTBC0\t3823188\t+\t33\t41\t47\tCAATC\t3823188\t3823183\tidsB\t0\n",
      "MTBC0\t3870119\t-\t33\t35\t49\tCGGG\t3870119\t3870115\tistB;istA\t41;35\n"
     ]
    }
   ],
   "source": [
    "%%bash\n",
    "../detettore6110.py some_reads.fastq.gz "
   ]
  },
  {
   "cell_type": "markdown",
   "id": "08486f1f",
   "metadata": {},
   "source": [
    "# Test with bam file"
   ]
  },
  {
   "cell_type": "code",
   "execution_count": 5,
   "id": "4e6441d0-5fd1-4831-bed5-633f01a23cf9",
   "metadata": {},
   "outputs": [
    {
     "name": "stdout",
     "output_type": "stream",
     "text": [
      "#CN 16\n",
      "chromosome\tposition\tstrand\tsupport_L\tsupport_R\tmean_mapq\tTSD\tposition_L\tposition_R\tgene\tdist_to_gene\n",
      "H37Rv\t1594\t+\t25\t23\t32\tATT\t1594\t1591\tdnaA;dnaN\t70;458\n",
      "H37Rv\t1262963\t-\t22\t14\t30\tAAGC\t1262963\t1262959\tPPE16\t0\n",
      "H37Rv\t1543972\t-\t21\t20\t32\tGAGG\t1543972\t1543968\tRv1371\t0\n",
      "H37Rv\t1657016\t-\t18\t20\t37\tCGTT\t1657016\t1657012\tctpD\t0\n",
      "H37Rv\t2040446\t+\t11\t18\t34\tGCA\t2040446\t2040443\tPPE28\t0\n",
      "H37Rv\t2263627\t-\t23\t14\t28\tTCAAGG\t2263627\t2263621\tRv2016\t0\n",
      "H37Rv\t2366895\t+\t22\t21\t32\tCACACT\t2366895\t2366889\tinsertion sequence:IS6110-5;PE22\t127;464\n",
      "H37Rv\t3378553\t-\t17\t21\t31\tGGC\t3378553\t3378550\tPPE46;esxR\t310;158\n",
      "H37Rv\t3379027\t+\t19\t21\t32\tCAG\t3379027\t3379024\tesxR;esxS\t26;9\n",
      "H37Rv\t3493910\t-\t20\t8\t29\tCGA\t3493910\t3493907\tRv3128c\t0\n",
      "H37Rv\t3547345\t+\t11\t26\t34\tATGT\t3547345\t3547341\tRv3178a;Rv3179\t15;273\n",
      "H37Rv\t3549199\t-\t16\t27\t33\tCGG\t3549199\t3549196\tRv3179;Rv3180c\t292;55\n",
      "H37Rv\t3844681\t-\t23\t16\t37\tCGGG\t3844681\t3844677\tinsertion sequence:IS1532\t0\n"
     ]
    }
   ],
   "source": [
    "%%bash\n",
    "\n",
    "../detettore6110.py some_reads.bam -r ../resources/reference/H37Rv.fasta -a ../resources/reference/H37Rv.RefSeq_annot.gff"
   ]
  },
  {
   "cell_type": "markdown",
   "id": "415644e8",
   "metadata": {},
   "source": [
    "# High coverage sample\n",
    "\n",
    "This sample produced a ridiculous copy number estimate. Most likely because it has a huge coverage and the cluster size threshold for CN estimation is fixed at 10.\n",
    "\n",
    "Explore this sample to introduce a dynamic threshold.\n",
    "\n",
    "G702637\n",
    "\n",
    "-> Contaminaiton issue??\n",
    "\n",
    "Solution: increase minimum identity threshold from 0.9 to 0.99 to decrease number of spurious clusters."
   ]
  },
  {
   "cell_type": "markdown",
   "id": "7d43fc21",
   "metadata": {},
   "source": [
    "# cram\n",
    "\n",
    "Some issues with cram to fastq conversion, e.g. G45882.\n",
    "```\n",
    "CRAM=/scicore/home/gagneux/GROUP/tbresearch/genomes/IN_PROGRESS/common_mappings/PipelineTB/v2/G45/88/2/G45882.cram\n",
    "```"
   ]
  },
  {
   "cell_type": "markdown",
   "id": "db59fe39",
   "metadata": {},
   "source": [
    "# Errors "
   ]
  },
  {
   "cell_type": "markdown",
   "id": "a108da15",
   "metadata": {},
   "source": [
    "## read ID error\n",
    "\n",
    "Traceback (most recent call last):\n",
    "\n",
    "  Cell In[3], line 65\n",
    "    clusters = insertionsites.merge_clusters(split_positions, hits)\n",
    "\n",
    "  File ~/TB/projects/detettoreTB/github/detettore6110/lib/insertionsites.py:416 in merge_clusters\n",
    "    cl.evaluate_reads(reads, hits)\n",
    "\n",
    "  File ~/TB/projects/detettoreTB/github/detettore6110/lib/insertionsites.py:66 in evaluate_reads\n",
    "    hit = hits[read.query_name]\n",
    "\n",
    "KeyError: 'BS-DSFCONTROL06:77:H325NBCXX:2:2205:14719:6935'"
   ]
  },
  {
   "cell_type": "code",
   "execution_count": 2,
   "id": "8190e2f8",
   "metadata": {},
   "outputs": [
    {
     "name": "stderr",
     "output_type": "stream",
     "text": [
      "gzip: BS-DSFCONTROL06:77:H325NBCXX:2:2205:14719:6935.gz: No such file or directory\n"
     ]
    },
    {
     "ename": "CalledProcessError",
     "evalue": "Command 'b'\\n# Check in which files the read is present\\nR=BS-DSFCONTROL06:77:H325NBCXX:2:2205:14719:6935\\n\\nzgrep tmp_KeyError/reads.fastq.gz $R\\n'' returned non-zero exit status 2.",
     "output_type": "error",
     "traceback": [
      "\u001b[0;31m---------------------------------------------------------------------------\u001b[0m",
      "\u001b[0;31mCalledProcessError\u001b[0m                        Traceback (most recent call last)",
      "Cell \u001b[0;32mIn[2], line 1\u001b[0m\n\u001b[0;32m----> 1\u001b[0m \u001b[43mget_ipython\u001b[49m\u001b[43m(\u001b[49m\u001b[43m)\u001b[49m\u001b[38;5;241;43m.\u001b[39;49m\u001b[43mrun_cell_magic\u001b[49m\u001b[43m(\u001b[49m\u001b[38;5;124;43m'\u001b[39;49m\u001b[38;5;124;43mbash\u001b[39;49m\u001b[38;5;124;43m'\u001b[39;49m\u001b[43m,\u001b[49m\u001b[43m \u001b[49m\u001b[38;5;124;43m'\u001b[39;49m\u001b[38;5;124;43m'\u001b[39;49m\u001b[43m,\u001b[49m\u001b[43m \u001b[49m\u001b[38;5;124;43m'\u001b[39;49m\u001b[38;5;130;43;01m\\n\u001b[39;49;00m\u001b[38;5;124;43m# Check in which files the read is present\u001b[39;49m\u001b[38;5;130;43;01m\\n\u001b[39;49;00m\u001b[38;5;124;43mR=BS-DSFCONTROL06:77:H325NBCXX:2:2205:14719:6935\u001b[39;49m\u001b[38;5;130;43;01m\\n\u001b[39;49;00m\u001b[38;5;130;43;01m\\n\u001b[39;49;00m\u001b[38;5;124;43mzgrep tmp_KeyError/reads.fastq.gz $R\u001b[39;49m\u001b[38;5;130;43;01m\\n\u001b[39;49;00m\u001b[38;5;124;43m'\u001b[39;49m\u001b[43m)\u001b[49m\n",
      "File \u001b[0;32m~/anaconda3/envs/detettore_dev/lib/python3.8/site-packages/IPython/core/interactiveshell.py:2478\u001b[0m, in \u001b[0;36mInteractiveShell.run_cell_magic\u001b[0;34m(self, magic_name, line, cell)\u001b[0m\n\u001b[1;32m   2476\u001b[0m \u001b[38;5;28;01mwith\u001b[39;00m \u001b[38;5;28mself\u001b[39m\u001b[38;5;241m.\u001b[39mbuiltin_trap:\n\u001b[1;32m   2477\u001b[0m     args \u001b[38;5;241m=\u001b[39m (magic_arg_s, cell)\n\u001b[0;32m-> 2478\u001b[0m     result \u001b[38;5;241m=\u001b[39m \u001b[43mfn\u001b[49m\u001b[43m(\u001b[49m\u001b[38;5;241;43m*\u001b[39;49m\u001b[43margs\u001b[49m\u001b[43m,\u001b[49m\u001b[43m \u001b[49m\u001b[38;5;241;43m*\u001b[39;49m\u001b[38;5;241;43m*\u001b[39;49m\u001b[43mkwargs\u001b[49m\u001b[43m)\u001b[49m\n\u001b[1;32m   2480\u001b[0m \u001b[38;5;66;03m# The code below prevents the output from being displayed\u001b[39;00m\n\u001b[1;32m   2481\u001b[0m \u001b[38;5;66;03m# when using magics with decodator @output_can_be_silenced\u001b[39;00m\n\u001b[1;32m   2482\u001b[0m \u001b[38;5;66;03m# when the last Python token in the expression is a ';'.\u001b[39;00m\n\u001b[1;32m   2483\u001b[0m \u001b[38;5;28;01mif\u001b[39;00m \u001b[38;5;28mgetattr\u001b[39m(fn, magic\u001b[38;5;241m.\u001b[39mMAGIC_OUTPUT_CAN_BE_SILENCED, \u001b[38;5;28;01mFalse\u001b[39;00m):\n",
      "File \u001b[0;32m~/anaconda3/envs/detettore_dev/lib/python3.8/site-packages/IPython/core/magics/script.py:153\u001b[0m, in \u001b[0;36mScriptMagics._make_script_magic.<locals>.named_script_magic\u001b[0;34m(line, cell)\u001b[0m\n\u001b[1;32m    151\u001b[0m \u001b[38;5;28;01melse\u001b[39;00m:\n\u001b[1;32m    152\u001b[0m     line \u001b[38;5;241m=\u001b[39m script\n\u001b[0;32m--> 153\u001b[0m \u001b[38;5;28;01mreturn\u001b[39;00m \u001b[38;5;28;43mself\u001b[39;49m\u001b[38;5;241;43m.\u001b[39;49m\u001b[43mshebang\u001b[49m\u001b[43m(\u001b[49m\u001b[43mline\u001b[49m\u001b[43m,\u001b[49m\u001b[43m \u001b[49m\u001b[43mcell\u001b[49m\u001b[43m)\u001b[49m\n",
      "File \u001b[0;32m~/anaconda3/envs/detettore_dev/lib/python3.8/site-packages/IPython/core/magics/script.py:305\u001b[0m, in \u001b[0;36mScriptMagics.shebang\u001b[0;34m(self, line, cell)\u001b[0m\n\u001b[1;32m    300\u001b[0m \u001b[38;5;28;01mif\u001b[39;00m args\u001b[38;5;241m.\u001b[39mraise_error \u001b[38;5;129;01mand\u001b[39;00m p\u001b[38;5;241m.\u001b[39mreturncode \u001b[38;5;241m!=\u001b[39m \u001b[38;5;241m0\u001b[39m:\n\u001b[1;32m    301\u001b[0m     \u001b[38;5;66;03m# If we get here and p.returncode is still None, we must have\u001b[39;00m\n\u001b[1;32m    302\u001b[0m     \u001b[38;5;66;03m# killed it but not yet seen its return code. We don't wait for it,\u001b[39;00m\n\u001b[1;32m    303\u001b[0m     \u001b[38;5;66;03m# in case it's stuck in uninterruptible sleep. -9 = SIGKILL\u001b[39;00m\n\u001b[1;32m    304\u001b[0m     rc \u001b[38;5;241m=\u001b[39m p\u001b[38;5;241m.\u001b[39mreturncode \u001b[38;5;129;01mor\u001b[39;00m \u001b[38;5;241m-\u001b[39m\u001b[38;5;241m9\u001b[39m\n\u001b[0;32m--> 305\u001b[0m     \u001b[38;5;28;01mraise\u001b[39;00m CalledProcessError(rc, cell)\n",
      "\u001b[0;31mCalledProcessError\u001b[0m: Command 'b'\\n# Check in which files the read is present\\nR=BS-DSFCONTROL06:77:H325NBCXX:2:2205:14719:6935\\n\\nzgrep tmp_KeyError/reads.fastq.gz $R\\n'' returned non-zero exit status 2."
     ]
    }
   ],
   "source": [
    "%%bash\n",
    "\n",
    "# Check in which files the read is present\n",
    "R=BS-DSFCONTROL06:77:H325NBCXX:2:2205:14719:6935\n",
    "\n",
    "zgrep $R tmp_KeyError/reads.fastq.gz "
   ]
  }
 ],
 "metadata": {
  "kernelspec": {
   "display_name": "Python 3 (Spyder)",
   "language": "python3",
   "name": "python3"
  },
  "language_info": {
   "codemirror_mode": {
    "name": "ipython",
    "version": 3
   },
   "file_extension": ".py",
   "mimetype": "text/x-python",
   "name": "python",
   "nbconvert_exporter": "python",
   "pygments_lexer": "ipython3",
   "version": "3.8.15"
  }
 },
 "nbformat": 4,
 "nbformat_minor": 5
}
