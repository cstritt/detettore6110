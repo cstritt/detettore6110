{
 "cells": [
  {
   "cell_type": "markdown",
   "metadata": {},
   "source": [
    "Simulate reads from assembly RW-TB008. According to ISEScan, this strain has 24 copies of IS6110."
   ]
  },
  {
   "cell_type": "markdown",
   "metadata": {},
   "source": [
    "Single end reads. The worst type, of which we have many inhouse ...\n",
    "\n",
    "With 50 bp SE reads, minimap2 does not work well to retrieve split reads as it fails to align sequences smaller than ~30 bp. "
   ]
  },
  {
   "cell_type": "code",
   "execution_count": 3,
   "metadata": {
    "vscode": {
     "languageId": "shellscript"
    }
   },
   "outputs": [
    {
     "name": "stdout",
     "output_type": "stream",
     "text": [
      "\n",
      "    ====================ART====================\n",
      "             ART_Illumina (2008-2016)          \n",
      "          Q Version 2.5.8 (June 7, 2016)       \n",
      "     Contact: Weichun Huang <whduke@gmail.com> \n",
      "    -------------------------------------------\n",
      "\n",
      "                  Single-end Simulation\n",
      "\n",
      "Total CPU time used: 38.84\n",
      "\n",
      "The random seed for the run: 1712914494\n",
      "\n",
      "Parameters used during run\n",
      "\tRead Length:\t100\n",
      "\tGenome masking 'N' cutoff frequency: \t1 in 100\n",
      "\tFold Coverage:            40X\n",
      "\tProfile Type:             Combined\n",
      "\tID Tag:                   \n",
      "\n",
      "Quality Profile(s)\n",
      "\tFirst Read:   HiSeq 2500 Length 126 R1 (built-in profile) \n",
      "\n",
      "Output files\n",
      "\n",
      "  FASTQ Sequence File:\n",
      "\treads/RW-TB008.SE_l100f40.fq\n",
      "\n"
     ]
    },
    {
     "name": "stderr",
     "output_type": "stream",
     "text": [
      "Warning: your simulation will not output any ALN or SAM file with your parameter settings!\n"
     ]
    }
   ],
   "source": [
    "%%bash\n",
    "\n",
    "PREF=RW-TB008.SE_l100f40\n",
    "\n",
    "/home/cristobal/programs/art_bin_MountRainier/art_illumina \\\n",
    "  -ss HS25 \\\n",
    "  -i reference/RW-TB008.fasta \\\n",
    "  -l 100 \\\n",
    "  -f 40 \\\n",
    "  --noALN \\\n",
    "  -o reads/${PREF}\n",
    "\n",
    "gzip reads/${PREF}.fq"
   ]
  },
  {
   "cell_type": "markdown",
   "metadata": {},
   "source": [
    "Paired-end reads"
   ]
  },
  {
   "cell_type": "code",
   "execution_count": 2,
   "metadata": {
    "vscode": {
     "languageId": "shellscript"
    }
   },
   "outputs": [
    {
     "name": "stdout",
     "output_type": "stream",
     "text": [
      "\n",
      "    ====================ART====================\n",
      "             ART_Illumina (2008-2016)          \n",
      "          Q Version 2.5.8 (June 7, 2016)       \n",
      "     Contact: Weichun Huang <whduke@gmail.com> \n",
      "    -------------------------------------------\n",
      "\n",
      "                  Paired-end sequencing simulation\n",
      "\n",
      "Total CPU time used: 30.33\n",
      "\n",
      "The random seed for the run: 1712902429\n",
      "\n",
      "Parameters used during run\n",
      "\tRead Length:\t150\n",
      "\tGenome masking 'N' cutoff frequency: \t1 in 150\n",
      "\tFold Coverage:            40X\n",
      "\tMean Fragment Length:     200\n",
      "\tStandard Deviation:       10\n",
      "\tProfile Type:             Combined\n",
      "\tID Tag:                   \n",
      "\n",
      "Quality Profile(s)\n",
      "\tFirst Read:   HiSeq 2500 Length 150 R1 (built-in profile) \n",
      "\tFirst Read:   HiSeq 2500 Length 150 R2 (built-in profile) \n",
      "\n",
      "Output files\n",
      "\n",
      "  FASTQ Sequence Files:\n",
      "\t the 1st reads: reads/RW-TB008.PE_l150m200s10f401.fq\n",
      "\t the 2nd reads: reads/RW-TB008.PE_l150m200s10f402.fq\n",
      "\n",
      "  ALN Alignment Files:\n",
      "\t the 1st reads: reads/RW-TB008.PE_l150m200s10f401.aln\n",
      "\t the 2nd reads: reads/RW-TB008.PE_l150m200s10f402.aln\n",
      "\n"
     ]
    }
   ],
   "source": [
    "%%bash\n",
    "\n",
    "PREF=RW-TB008.PE_l150m200s10f40\n",
    "\n",
    "/home/cristobal/programs/art_bin_MountRainier/art_illumina \\\n",
    "  -ss HS25 \\\n",
    "  -i reference/RW-TB008.fasta \\\n",
    "  -p \\\n",
    "  -l 150 \\\n",
    "  -f 40 \\\n",
    "  -m 200 \\\n",
    "  -s 10 \\\n",
    "  --noALN \\\n",
    "  -o reads/${PREF}\n",
    "\n",
    "#gzip reads/${PREF}.fq"
   ]
  }
 ],
 "metadata": {
  "kernelspec": {
   "display_name": "bio",
   "language": "python",
   "name": "python3"
  },
  "language_info": {
   "codemirror_mode": {
    "name": "ipython",
    "version": 3
   },
   "file_extension": ".py",
   "mimetype": "text/x-python",
   "name": "python",
   "nbconvert_exporter": "python",
   "pygments_lexer": "ipython3",
   "version": "3.7.12"
  }
 },
 "nbformat": 4,
 "nbformat_minor": 2
}
